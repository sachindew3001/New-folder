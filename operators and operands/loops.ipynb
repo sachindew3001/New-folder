{
 "cells": [
  {
   "cell_type": "markdown",
   "metadata": {},
   "source": [
    "for loop"
   ]
  },
  {
   "cell_type": "code",
   "execution_count": 3,
   "metadata": {},
   "outputs": [
    {
     "name": "stdout",
     "output_type": "stream",
     "text": [
      "1\n",
      "2\n",
      "3\n",
      "4\n",
      "5\n"
     ]
    }
   ],
   "source": [
    "for i in range (1,6,):\n",
    "  print(i)"
   ]
  },
  {
   "cell_type": "markdown",
   "metadata": {},
   "source": [
    "to print multiple string or int or any another observation.\n",
    "and it prints both the given command then again a nother set of series."
   ]
  },
  {
   "cell_type": "code",
   "execution_count": 17,
   "metadata": {},
   "outputs": [
    {
     "name": "stdout",
     "output_type": "stream",
     "text": [
      "hello world\n",
      "bad boy\n",
      "hello world\n",
      "bad boy\n",
      "hello world\n",
      "bad boy\n",
      "hello world\n",
      "bad boy\n",
      "hello world\n",
      "bad boy\n",
      "hello world\n",
      "bad boy\n",
      "hello world\n",
      "bad boy\n"
     ]
    }
   ],
   "source": [
    "for i in range (1,8,):\n",
    "   print(\"hello world\")\n",
    "   print(\"bad boy\")"
   ]
  },
  {
   "cell_type": "markdown",
   "metadata": {},
   "source": [
    "to give gap or jump in a range of integers\n",
    "here it left out the one after another number"
   ]
  },
  {
   "cell_type": "code",
   "execution_count": 19,
   "metadata": {},
   "outputs": [
    {
     "name": "stdout",
     "output_type": "stream",
     "text": [
      "1\n",
      "3\n",
      "5\n",
      "7\n",
      "9\n"
     ]
    }
   ],
   "source": [
    "for i in range (1,11,2,):\n",
    "    print(i)"
   ]
  },
  {
   "cell_type": "markdown",
   "metadata": {},
   "source": [
    "not to create it in arthematic equation\n",
    "1) 7*1=7\n",
    "2) 7*2=14\n",
    "3) 7*3=21"
   ]
  },
  {
   "cell_type": "code",
   "execution_count": 60,
   "metadata": {},
   "outputs": [
    {
     "name": "stdout",
     "output_type": "stream",
     "text": [
      "7 * 1 = 7\n",
      "7 * 2 = 14\n",
      "7 * 3 = 21\n",
      "7 * 4 = 28\n",
      "7 * 5 = 35\n",
      "7 * 6 = 42\n",
      "7 * 7 = 49\n",
      "7 * 8 = 56\n",
      "7 * 9 = 63\n",
      "7 * 10 = 70\n"
     ]
    }
   ],
   "source": [
    "n = 7\n",
    "for i in range (1,11):\n",
    "    print(n,\"*\",i,\"=\",n*i)"
   ]
  },
  {
   "cell_type": "code",
   "execution_count": 62,
   "metadata": {},
   "outputs": [
    {
     "name": "stdout",
     "output_type": "stream",
     "text": [
      "5.5 * 1 = 5.5\n",
      "5.5 * 2 = 11.0\n",
      "5.5 * 3 = 16.5\n",
      "5.5 * 4 = 22.0\n",
      "5.5 * 5 = 27.5\n",
      "5.5 * 6 = 33.0\n",
      "5.5 * 7 = 38.5\n",
      "5.5 * 8 = 44.0\n",
      "5.5 * 9 = 49.5\n",
      "5.5 * 10 = 55.0\n"
     ]
    }
   ],
   "source": [
    "n = float(input(\"enter the number here\"))\n",
    "for i in range (1,11):\\\n",
    "    print(n,\"*\",i,\"=\",n*i)"
   ]
  },
  {
   "cell_type": "markdown",
   "metadata": {},
   "source": [
    "now made a cube series"
   ]
  },
  {
   "cell_type": "code",
   "execution_count": 66,
   "metadata": {},
   "outputs": [
    {
     "name": "stdout",
     "output_type": "stream",
     "text": [
      "1 ** 3 = 1\n",
      "2 ** 3 = 8\n",
      "3 ** 3 = 27\n",
      "4 ** 3 = 64\n",
      "5 ** 3 = 125\n",
      "6 ** 3 = 216\n",
      "7 ** 3 = 343\n",
      "8 ** 3 = 512\n",
      "9 ** 3 = 729\n",
      "10 ** 3 = 1000\n"
     ]
    }
   ],
   "source": [
    "n = 3\n",
    "for i in range (1,11):\n",
    "    print(i,\"**\",n,\"=\",i**n)"
   ]
  },
  {
   "cell_type": "markdown",
   "metadata": {},
   "source": []
  },
  {
   "cell_type": "code",
   "execution_count": null,
   "metadata": {},
   "outputs": [],
   "source": []
  }
 ],
 "metadata": {
  "kernelspec": {
   "display_name": "Python 3",
   "language": "python",
   "name": "python3"
  },
  "language_info": {
   "codemirror_mode": {
    "name": "ipython",
    "version": 3
   },
   "file_extension": ".py",
   "mimetype": "text/x-python",
   "name": "python",
   "nbconvert_exporter": "python",
   "pygments_lexer": "ipython3",
   "version": "3.12.5"
  }
 },
 "nbformat": 4,
 "nbformat_minor": 2
}
