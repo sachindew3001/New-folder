{
 "cells": [
  {
   "cell_type": "markdown",
   "metadata": {},
   "source": [
    "if statement\n"
   ]
  },
  {
   "cell_type": "code",
   "execution_count": 6,
   "metadata": {},
   "outputs": [
    {
     "name": "stdout",
     "output_type": "stream",
     "text": [
      "you got grade A and a chocolate\n",
      "thankyou\n"
     ]
    }
   ],
   "source": [
    "marks = 90\n",
    "\n",
    "if marks >= 80:\n",
    "    print(\"you got grade A and a chocolate\") \n",
    "\n",
    "print(\"thankyou\")    "
   ]
  },
  {
   "cell_type": "code",
   "execution_count": 7,
   "metadata": {},
   "outputs": [
    {
     "name": "stdout",
     "output_type": "stream",
     "text": [
      "thankyou\n"
     ]
    }
   ],
   "source": [
    "marks = 70\n",
    "\n",
    "if marks >= 80:\n",
    "    print(\"you will get grade A and a chocolate\") \n",
    "\n",
    "print(\"thankyou\")    "
   ]
  },
  {
   "cell_type": "markdown",
   "metadata": {},
   "source": [
    "if else statement \n",
    "here one conditions is false program executes another conditions"
   ]
  },
  {
   "cell_type": "code",
   "execution_count": 29,
   "metadata": {},
   "outputs": [
    {
     "name": "stdout",
     "output_type": "stream",
     "text": [
      "you will get mobile for 1 week\n",
      "thankyou\n"
     ]
    }
   ],
   "source": [
    "marks = 80\n",
    "\n",
    "if marks >= 75:\n",
    "    print(\"you will get mobile for 1 week\")\n",
    "else:\n",
    "    print(\"no mobile for 1 week\")\n",
    "\n",
    "print(\"thankyou\")\n",
    "\n",
    "\n",
    "        "
   ]
  },
  {
   "cell_type": "code",
   "execution_count": 40,
   "metadata": {},
   "outputs": [
    {
     "name": "stdout",
     "output_type": "stream",
     "text": [
      "yeahh\n",
      "all the best\n",
      "thankyou\n"
     ]
    }
   ],
   "source": [
    "a = 23\n",
    "b = 45\n",
    "c = a + b\n",
    "if c >= 50:\n",
    "    print(\"yeahh\")\n",
    "    print(\"all the best\")    \n",
    "else :\n",
    "    print(\"ohh no\")    \n",
    "print(\"thankyou\")    "
   ]
  },
  {
   "cell_type": "code",
   "execution_count": 41,
   "metadata": {},
   "outputs": [
    {
     "name": "stdout",
     "output_type": "stream",
     "text": [
      "'ohh no', better luck next time.\n",
      "thankyou\n"
     ]
    }
   ],
   "source": [
    "a = 23\n",
    "b = 45\n",
    "c = a + b\n",
    "if c >= 80:\n",
    "    print(\"yeahh\")\n",
    "    print(\"all the best for future.\")    \n",
    "else :\n",
    "    print(\"'ohh no', better luck next time.\")   \n",
    "print(\"thankyou\") "
   ]
  },
  {
   "cell_type": "markdown",
   "metadata": {},
   "source": [
    "if elif else statement\n"
   ]
  },
  {
   "cell_type": "code",
   "execution_count": 46,
   "metadata": {},
   "outputs": [
    {
     "name": "stdout",
     "output_type": "stream",
     "text": [
      "you will get a phone\n",
      "thankyou\n"
     ]
    }
   ],
   "source": [
    "marks = 85\n",
    "if marks >90:\n",
    "    print(\"you will go to a trip\")\n",
    "elif marks >=80 and marks <=90:\n",
    "    print(\"you will get a phone\")    \n",
    "elif marks>=70 and marks <= 80:\n",
    "    print(\"you will get a book\")\n",
    "else :\n",
    "    print(\"will will not get phone for 1 week \") \n",
    "print(\"thankyou\")           "
   ]
  },
  {
   "cell_type": "markdown",
   "metadata": {},
   "source": [
    "nested if statement\n"
   ]
  },
  {
   "cell_type": "code",
   "execution_count": null,
   "metadata": {},
   "outputs": [],
   "source": []
  }
 ],
 "metadata": {
  "kernelspec": {
   "display_name": "Python 3",
   "language": "python",
   "name": "python3"
  },
  "language_info": {
   "codemirror_mode": {
    "name": "ipython",
    "version": 3
   },
   "file_extension": ".py",
   "mimetype": "text/x-python",
   "name": "python",
   "nbconvert_exporter": "python",
   "pygments_lexer": "ipython3",
   "version": "3.12.5"
  }
 },
 "nbformat": 4,
 "nbformat_minor": 2
}
