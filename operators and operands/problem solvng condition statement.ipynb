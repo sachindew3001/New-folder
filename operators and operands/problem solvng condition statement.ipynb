{
 "cells": [
  {
   "cell_type": "markdown",
   "metadata": {},
   "source": [
    "1)write a program to check if number is positive?\n",
    "\n"
   ]
  },
  {
   "cell_type": "code",
   "execution_count": 83,
   "metadata": {},
   "outputs": [
    {
     "name": "stdout",
     "output_type": "stream",
     "text": [
      "number is positive\n"
     ]
    }
   ],
   "source": [
    "number = int(input(\"enter a number\"))\n",
    "if number >0:\n",
    "    print(\"number is positive\")\n",
    "else :\n",
    "    print(\"its a negative number\")    "
   ]
  },
  {
   "cell_type": "markdown",
   "metadata": {},
   "source": [
    "2) write a program to check is number is even or odd"
   ]
  },
  {
   "cell_type": "code",
   "execution_count": null,
   "metadata": {},
   "outputs": [],
   "source": [
    "num= int(input(\"enter a number\"))\n",
    "if num % 2==0:\n",
    "    print(\"it is even number\")\n",
    "else:\n",
    "    print(\"its not an even number\")"
   ]
  },
  {
   "cell_type": "markdown",
   "metadata": {},
   "source": [
    "3) program for area claculator."
   ]
  },
  {
   "cell_type": "code",
   "execution_count": 74,
   "metadata": {},
   "outputs": [
    {
     "name": "stdout",
     "output_type": "stream",
     "text": [
      "***AREA CLACULATOR***\n",
      "press 1 for area of square\n",
      "press 2 for area of rectangle \n",
      "press 3 for area of circle\n",
      "press 4 for area of traingle\n",
      "the area of square is 1.0\n"
     ]
    }
   ],
   "source": [
    "print(\"***AREA CLACULATOR***\")\n",
    "print(\"\"\"press 1 for area of square\n",
    "press 2 for area of rectangle \n",
    "press 3 for area of circle\n",
    "press 4 for area of traingle\"\"\" )\n",
    "choice = int(input(\"enter a number\"))\n",
    "if choice==1:\n",
    "   side =float(input(\"enter the length of one side \"))\n",
    "   area = side**2\n",
    "   print(\"the area of square is\",area)\n",
    "elif choice==2:\n",
    "   length = float(input(\"enter the length of rectangle\"))\n",
    "   width = float(input(\"enter the width of rectangle here\"))\n",
    "   area = length*width\n",
    "   print(\"the area of rectangle is\",area)\n",
    "elif choice ==3:\n",
    "    r = float(input(\"length of radiusnof circle\"))\n",
    "    area = (22/7)*(r**2)\n",
    "    print(\"the area of circle is \",area)\n",
    "elif choice == 4:\n",
    "    base= float(input(\"enter the base of traingle\"))\n",
    "    height = float(input(\"enter the base of traingle\"))\n",
    "    area = (1/2)*(base * height)\n",
    "    print(\"area of traingle\",area)\n",
    "else:\n",
    "    print(\"your input is invalid\")    \n"
   ]
  },
  {
   "cell_type": "markdown",
   "metadata": {},
   "source": [
    "4)write a progrm check weather rhe passed letter is vowel or not"
   ]
  },
  {
   "cell_type": "code",
   "execution_count": 82,
   "metadata": {},
   "outputs": [
    {
     "name": "stdout",
     "output_type": "stream",
     "text": [
      "it is not a vowel\n"
     ]
    }
   ],
   "source": [
    "letter = input(\"enter the letter her\")\n",
    "if (letter in \"aeiou\") or (letter in \"AEIOU\"):\n",
    " print(\"it is a vowel\")\n",
    "else:\n",
    " print(\"it is not a vowel\")\n"
   ]
  }
 ],
 "metadata": {
  "language_info": {
   "name": "python"
  }
 },
 "nbformat": 4,
 "nbformat_minor": 2
}
