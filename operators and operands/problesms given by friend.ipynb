{
 "cells": [
  {
   "cell_type": "code",
   "execution_count": 3,
   "metadata": {},
   "outputs": [
    {
     "name": "stdout",
     "output_type": "stream",
     "text": [
      "76 b is greater 56 and  0\n"
     ]
    }
   ],
   "source": [
    "\n",
    "a = int(input(\"enter the number:\"))\n",
    "b = int(input(\"enter the number:\"))\n",
    "c = int(input(\"enter the number:\"))\n",
    "if a>b and b>c:\n",
    "    print(a,\"a is greater than\",b\"and \",c)\n",
    "elif b>a and b>c:\n",
    "    print(b,\"b is greater\",a,\"and \",c)\n",
    "else :\n",
    "    print(c,\" is greater\")\n"
   ]
  },
  {
   "cell_type": "code",
   "execution_count": 11,
   "metadata": {},
   "outputs": [
    {
     "name": "stdout",
     "output_type": "stream",
     "text": [
      "you got grade B\n"
     ]
    }
   ],
   "source": [
    "marks = int(input(\"enter the markes here\"))\n",
    "if marks >90:\n",
    "    print(\"you got grade A\")\n",
    "elif marks >=50 and marks <=90 :\n",
    "    print(\"you got grade B\")\n",
    "else:\n",
    "    print(\"tum chud gaye guru\")"
   ]
  },
  {
   "cell_type": "code",
   "execution_count": 24,
   "metadata": {},
   "outputs": [
    {
     "name": "stdout",
     "output_type": "stream",
     "text": [
      "****sachin store****\n",
      "press 1 for chocolate\n",
      "press 2 for cold drink\n",
      "press 3 for mixture\n",
      "press 4 for frooti\n",
      "press 5 for all the above items\n",
      "your order got accepted\n",
      "soon your mixture will be delivered \n"
     ]
    }
   ],
   "source": [
    "print(\"****sachin store****\")\n",
    "print(\"\"\"press 1 for chocolate\n",
    "press 2 for cold drink\n",
    "press 3 for mixture\n",
    "press 4 for frooti\"\"\")\n",
    "print (\"press 5 for all the above items\")\n",
    "choice = int(input(\"enter the choice here\"))\n",
    "if choice==1:\n",
    "    print(\"your order got accepted\")\n",
    "    print(\"soon your chocolate will be delivered \")\n",
    "elif choice==2:\n",
    "    print(\"your order got accepted\")\n",
    "    print(\"soon your colddrink will be delivered \")\n",
    "elif choice==3:\n",
    "    print(\"your order got accepted\")\n",
    "    print(\"soon your mixture will be delivered \")\n",
    "elif choice==4:\n",
    "    print(\"your order got accepted\")\n",
    "    print(\"soon your frooti will be delivered \")\n",
    "elif choice==(1,2,3,4,):\n",
    "    print(\"your order got accepted\")\n",
    "else :\n",
    "    print(\"your choice is invalid\")\n",
    "    "
   ]
  },
  {
   "cell_type": "markdown",
   "metadata": {},
   "source": [
    "50, 60 90"
   ]
  }
 ],
 "metadata": {
  "kernelspec": {
   "display_name": "Python 3",
   "language": "python",
   "name": "python3"
  },
  "language_info": {
   "codemirror_mode": {
    "name": "ipython",
    "version": 3
   },
   "file_extension": ".py",
   "mimetype": "text/x-python",
   "name": "python",
   "nbconvert_exporter": "python",
   "pygments_lexer": "ipython3",
   "version": "3.12.5"
  }
 },
 "nbformat": 4,
 "nbformat_minor": 2
}
