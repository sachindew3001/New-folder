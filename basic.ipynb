{
 "cells": [
  {
   "cell_type": "code",
   "execution_count": 8,
   "metadata": {},
   "outputs": [
    {
     "name": "stdout",
     "output_type": "stream",
     "text": [
      "hello world\n"
     ]
    }
   ],
   "source": [
    "print(\"hello world\")\n"
   ]
  },
  {
   "cell_type": "code",
   "execution_count": 7,
   "metadata": {},
   "outputs": [
    {
     "name": "stdout",
     "output_type": "stream",
     "text": [
      "sachin\n"
     ]
    }
   ],
   "source": [
    "print(\"sachin\")"
   ]
  },
  {
   "cell_type": "code",
   "execution_count": 9,
   "metadata": {},
   "outputs": [],
   "source": [
    "ishungary=True"
   ]
  },
  {
   "cell_type": "code",
   "execution_count": 10,
   "metadata": {},
   "outputs": [
    {
     "name": "stdout",
     "output_type": "stream",
     "text": [
      "77\n"
     ]
    }
   ],
   "source": [
    "a1=34\n",
    "a2=43\n",
    "sum=a1+a2\n",
    "print(sum)"
   ]
  },
  {
   "cell_type": "code",
   "execution_count": 11,
   "metadata": {},
   "outputs": [
    {
     "data": {
      "text/plain": [
       "'wave'"
      ]
     },
     "execution_count": 11,
     "metadata": {},
     "output_type": "execute_result"
    }
   ],
   "source": [
    "# taking input from user\n",
    "input(\"enter user number:\")\n",
    "\n"
   ]
  },
  {
   "cell_type": "code",
   "execution_count": 13,
   "metadata": {},
   "outputs": [],
   "source": [
    "name = input(\"enter the name of student:\")"
   ]
  },
  {
   "cell_type": "code",
   "execution_count": 16,
   "metadata": {},
   "outputs": [
    {
     "name": "stdout",
     "output_type": "stream",
     "text": [
      "name: sachin\n",
      "grade: A+\n",
      "age: 18\n",
      "email: sachindewangan@gmail.com\n",
      "ph_no: 1122334455\n"
     ]
    }
   ],
   "source": [
    "name = input(\"enter the name of student:\")\n",
    "grade = input(\"enter the grade of student:\")\n",
    "age = int(input(\"enter the age of student:\"))\n",
    "email = input(\"enter the email of student :\")\n",
    "ph_no = input(\"enter the phone no of student:\")\n",
    "print(\"name:\",name)\n",
    "print(\"grade:\",grade)\n",
    "print(\"age:\",age)\n",
    "print(\"email:\",email)\n",
    "print(\"ph_no:\",ph_no)\n"
   ]
  },
  {
   "cell_type": "code",
   "execution_count": 21,
   "metadata": {},
   "outputs": [
    {
     "name": "stdout",
     "output_type": "stream",
     "text": [
      "8\n"
     ]
    }
   ],
   "source": [
    "a=43\n",
    "b=35\n",
    "sub=a-b\n",
    "print(sub)\n"
   ]
  },
  {
   "cell_type": "code",
   "execution_count": 28,
   "metadata": {},
   "outputs": [
    {
     "name": "stdout",
     "output_type": "stream",
     "text": [
      "1233\n",
      "<class 'int'>\n",
      "afterconversion 1233.0\n",
      "<class 'float'>\n"
     ]
    }
   ],
   "source": [
    "a=int(input(\"enter the integer here\"))\n",
    "print(a)\n",
    "print(type(a))\n",
    "a=float(a)\n",
    "print(\"afterconversion\",a)\n",
    "print(type(a))"
   ]
  }
 ],
 "metadata": {
  "kernelspec": {
   "display_name": "Python 3",
   "language": "python",
   "name": "python3"
  },
  "language_info": {
   "codemirror_mode": {
    "name": "ipython",
    "version": 3
   },
   "file_extension": ".py",
   "mimetype": "text/x-python",
   "name": "python",
   "nbconvert_exporter": "python",
   "pygments_lexer": "ipython3",
   "version": "3.12.5"
  }
 },
 "nbformat": 4,
 "nbformat_minor": 2
}
