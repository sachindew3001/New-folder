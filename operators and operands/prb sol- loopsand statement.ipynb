{
 "cells": [
  {
   "cell_type": "markdown",
   "metadata": {},
   "source": []
  },
  {
   "cell_type": "code",
   "execution_count": 7,
   "metadata": {},
   "outputs": [
    {
     "name": "stdout",
     "output_type": "stream",
     "text": [
      "sum of all the even numbers upto 50 is= 650\n"
     ]
    }
   ],
   "source": [
    "sum = 0\n",
    "for i in range(1,51):\n",
    "    if i % 2==0 :\n",
    "        sum +=i\n",
    "print(\"sum of all the even numbers upto 50 is=\",sum)        \n",
    "\n",
    "\n",
    "           "
   ]
  },
  {
   "cell_type": "code",
   "execution_count": 18,
   "metadata": {},
   "outputs": [
    {
     "name": "stdout",
     "output_type": "stream",
     "text": [
      "1 * 1 = 1\n",
      "2 * 2 = 4\n",
      "3 * 3 = 9\n",
      "4 * 4 = 16\n",
      "5 * 5 = 25\n",
      "6 * 6 = 36\n",
      "7 * 7 = 49\n",
      "8 * 8 = 64\n",
      "9 * 9 = 81\n",
      "10 * 10 = 100\n",
      "11 * 11 = 121\n",
      "12 * 12 = 144\n",
      "13 * 13 = 169\n",
      "14 * 14 = 196\n",
      "15 * 15 = 225\n",
      "16 * 16 = 256\n",
      "17 * 17 = 289\n",
      "18 * 18 = 324\n",
      "19 * 19 = 361\n",
      "20 * 20 = 400\n"
     ]
    }
   ],
   "source": [
    "for i in range (1,21):\n",
    "    print(i,\"*\",i,\"=\",i**2)"
   ]
  }
 ],
 "metadata": {
  "kernelspec": {
   "display_name": "Python 3",
   "language": "python",
   "name": "python3"
  },
  "language_info": {
   "codemirror_mode": {
    "name": "ipython",
    "version": 3
   },
   "file_extension": ".py",
   "mimetype": "text/x-python",
   "name": "python",
   "nbconvert_exporter": "python",
   "pygments_lexer": "ipython3",
   "version": "3.12.5"
  }
 },
 "nbformat": 4,
 "nbformat_minor": 2
}
